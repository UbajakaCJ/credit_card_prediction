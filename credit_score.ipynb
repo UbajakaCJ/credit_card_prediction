{
 "cells": [
  {
   "cell_type": "markdown",
   "id": "2b50c78b",
   "metadata": {},
   "source": [
    "# Credit Card Approval Prediction"
   ]
  },
  {
   "cell_type": "markdown",
   "id": "9676b186",
   "metadata": {},
   "source": [
    "To decide whether to issue a credit card or not, financial institutions use credit score which uses personal data submitted by credit card applicants to predict the probability of future defaults and credit card borrowings\n",
    "\n",
    "Credit scores can objectively quantify the magnitude of the risk.\n",
    "\n",
    "In this project, we will build a Machine Learning model to predict whether an applicant is a __good__ or __bad__ client. So, it is a Binary Classification, and we will use __Logistic Regression__ as our model.\n",
    "\n",
    "The __application_record__ and __credit_record__ are merged into a dataset, and the target class is __STATUS__, and we will use __Vintage Analysis__ to construct the label."
   ]
  },
  {
   "cell_type": "code",
   "execution_count": 2,
   "id": "68e9874d",
   "metadata": {},
   "outputs": [],
   "source": [
    "import glob\n",
    "import pandas as pd\n",
    "import numpy as np"
   ]
  },
  {
   "cell_type": "code",
   "execution_count": 3,
   "id": "c17769f4",
   "metadata": {},
   "outputs": [
    {
     "data": {
      "text/plain": [
       "['application_record.csv', 'credit_record.csv']"
      ]
     },
     "execution_count": 3,
     "metadata": {},
     "output_type": "execute_result"
    }
   ],
   "source": [
    "glob.glob(\"*.csv\")"
   ]
  },
  {
   "cell_type": "code",
   "execution_count": 155,
   "id": "c16ee5a7",
   "metadata": {},
   "outputs": [],
   "source": [
    "credit = pd.read_csv('credit_record.csv')\n",
    "application = pd.read_csv('application_record.csv') "
   ]
  },
  {
   "cell_type": "code",
   "execution_count": 156,
   "id": "31e864f1",
   "metadata": {},
   "outputs": [],
   "source": [
    "credit['STATUS'] = credit['STATUS'].apply(lambda x: int(x) if x.isnumeric() else x)"
   ]
  },
  {
   "cell_type": "code",
   "execution_count": 157,
   "id": "7edfa97d",
   "metadata": {},
   "outputs": [],
   "source": [
    "grouped = credit.groupby('ID')"
   ]
  },
  {
   "cell_type": "code",
   "execution_count": 158,
   "id": "201a97f1",
   "metadata": {},
   "outputs": [],
   "source": [
    "pivot_table = credit.pivot(index='ID', columns='MONTHS_BALANCE', values='STATUS')"
   ]
  },
  {
   "cell_type": "markdown",
   "id": "43aca9dc",
   "metadata": {},
   "source": [
    "We used a pivot table to have an expanded view of the status in our credit data"
   ]
  },
  {
   "cell_type": "code",
   "execution_count": 202,
   "id": "581df84b",
   "metadata": {},
   "outputs": [
    {
     "data": {
      "text/html": [
       "<div>\n",
       "<style scoped>\n",
       "    .dataframe tbody tr th:only-of-type {\n",
       "        vertical-align: middle;\n",
       "    }\n",
       "\n",
       "    .dataframe tbody tr th {\n",
       "        vertical-align: top;\n",
       "    }\n",
       "\n",
       "    .dataframe thead th {\n",
       "        text-align: right;\n",
       "    }\n",
       "</style>\n",
       "<table border=\"1\" class=\"dataframe\">\n",
       "  <thead>\n",
       "    <tr style=\"text-align: right;\">\n",
       "      <th>MONTHS_BALANCE</th>\n",
       "      <th>ID</th>\n",
       "      <th>OPEN_MONTH</th>\n",
       "      <th>END_MONTH</th>\n",
       "      <th>WINDOW</th>\n",
       "    </tr>\n",
       "  </thead>\n",
       "  <tbody>\n",
       "    <tr>\n",
       "      <th>0</th>\n",
       "      <td>5001711</td>\n",
       "      <td>-3</td>\n",
       "      <td>0</td>\n",
       "      <td>3</td>\n",
       "    </tr>\n",
       "    <tr>\n",
       "      <th>1</th>\n",
       "      <td>5001712</td>\n",
       "      <td>-18</td>\n",
       "      <td>0</td>\n",
       "      <td>18</td>\n",
       "    </tr>\n",
       "    <tr>\n",
       "      <th>2</th>\n",
       "      <td>5001713</td>\n",
       "      <td>-21</td>\n",
       "      <td>0</td>\n",
       "      <td>21</td>\n",
       "    </tr>\n",
       "    <tr>\n",
       "      <th>3</th>\n",
       "      <td>5001714</td>\n",
       "      <td>-14</td>\n",
       "      <td>0</td>\n",
       "      <td>14</td>\n",
       "    </tr>\n",
       "    <tr>\n",
       "      <th>4</th>\n",
       "      <td>5001715</td>\n",
       "      <td>-59</td>\n",
       "      <td>0</td>\n",
       "      <td>59</td>\n",
       "    </tr>\n",
       "    <tr>\n",
       "      <th>...</th>\n",
       "      <td>...</td>\n",
       "      <td>...</td>\n",
       "      <td>...</td>\n",
       "      <td>...</td>\n",
       "    </tr>\n",
       "    <tr>\n",
       "      <th>45980</th>\n",
       "      <td>5150482</td>\n",
       "      <td>-28</td>\n",
       "      <td>-11</td>\n",
       "      <td>17</td>\n",
       "    </tr>\n",
       "    <tr>\n",
       "      <th>45981</th>\n",
       "      <td>5150483</td>\n",
       "      <td>-17</td>\n",
       "      <td>0</td>\n",
       "      <td>17</td>\n",
       "    </tr>\n",
       "    <tr>\n",
       "      <th>45982</th>\n",
       "      <td>5150484</td>\n",
       "      <td>-12</td>\n",
       "      <td>0</td>\n",
       "      <td>12</td>\n",
       "    </tr>\n",
       "    <tr>\n",
       "      <th>45983</th>\n",
       "      <td>5150485</td>\n",
       "      <td>-1</td>\n",
       "      <td>0</td>\n",
       "      <td>1</td>\n",
       "    </tr>\n",
       "    <tr>\n",
       "      <th>45984</th>\n",
       "      <td>5150487</td>\n",
       "      <td>-29</td>\n",
       "      <td>0</td>\n",
       "      <td>29</td>\n",
       "    </tr>\n",
       "  </tbody>\n",
       "</table>\n",
       "<p>45985 rows × 4 columns</p>\n",
       "</div>"
      ],
      "text/plain": [
       "MONTHS_BALANCE       ID  OPEN_MONTH  END_MONTH  WINDOW\n",
       "0               5001711          -3          0       3\n",
       "1               5001712         -18          0      18\n",
       "2               5001713         -21          0      21\n",
       "3               5001714         -14          0      14\n",
       "4               5001715         -59          0      59\n",
       "...                 ...         ...        ...     ...\n",
       "45980           5150482         -28        -11      17\n",
       "45981           5150483         -17          0      17\n",
       "45982           5150484         -12          0      12\n",
       "45983           5150485          -1          0       1\n",
       "45984           5150487         -29          0      29\n",
       "\n",
       "[45985 rows x 4 columns]"
      ]
     },
     "execution_count": 202,
     "metadata": {},
     "output_type": "execute_result"
    }
   ],
   "source": [
    "pivot_table"
   ]
  },
  {
   "cell_type": "code",
   "execution_count": 160,
   "id": "73224f36",
   "metadata": {},
   "outputs": [],
   "source": [
    "pivot_table['OPEN_MONTH'] = grouped['MONTHS_BALANCE'].min()\n",
    "pivot_table['END_MONTH'] = grouped['MONTHS_BALANCE'].max()\n",
    "pivot_table['ID'] = pivot_table.index"
   ]
  },
  {
   "cell_type": "code",
   "execution_count": 161,
   "id": "f9e42c63",
   "metadata": {},
   "outputs": [],
   "source": [
    "pivot_table = pivot_table[['ID', 'OPEN_MONTH', 'END_MONTH']]"
   ]
  },
  {
   "cell_type": "code",
   "execution_count": 162,
   "id": "c707bccf",
   "metadata": {},
   "outputs": [
    {
     "name": "stderr",
     "output_type": "stream",
     "text": [
      "C:\\Users\\DELL\\AppData\\Local\\Temp\\ipykernel_7220\\1852467907.py:1: SettingWithCopyWarning: \n",
      "A value is trying to be set on a copy of a slice from a DataFrame.\n",
      "Try using .loc[row_indexer,col_indexer] = value instead\n",
      "\n",
      "See the caveats in the documentation: https://pandas.pydata.org/pandas-docs/stable/user_guide/indexing.html#returning-a-view-versus-a-copy\n",
      "  pivot_table['WINDOW'] = pivot_table['END_MONTH'] - pivot_table['OPEN_MONTH']\n"
     ]
    }
   ],
   "source": [
    "pivot_table['WINDOW'] = pivot_table['END_MONTH'] - pivot_table['OPEN_MONTH']"
   ]
  },
  {
   "cell_type": "code",
   "execution_count": 163,
   "id": "2bf55fca",
   "metadata": {},
   "outputs": [
    {
     "data": {
      "text/html": [
       "<div>\n",
       "<style scoped>\n",
       "    .dataframe tbody tr th:only-of-type {\n",
       "        vertical-align: middle;\n",
       "    }\n",
       "\n",
       "    .dataframe tbody tr th {\n",
       "        vertical-align: top;\n",
       "    }\n",
       "\n",
       "    .dataframe thead th {\n",
       "        text-align: right;\n",
       "    }\n",
       "</style>\n",
       "<table border=\"1\" class=\"dataframe\">\n",
       "  <thead>\n",
       "    <tr style=\"text-align: right;\">\n",
       "      <th>MONTHS_BALANCE</th>\n",
       "      <th>ID</th>\n",
       "      <th>OPEN_MONTH</th>\n",
       "      <th>END_MONTH</th>\n",
       "      <th>WINDOW</th>\n",
       "    </tr>\n",
       "    <tr>\n",
       "      <th>ID</th>\n",
       "      <th></th>\n",
       "      <th></th>\n",
       "      <th></th>\n",
       "      <th></th>\n",
       "    </tr>\n",
       "  </thead>\n",
       "  <tbody>\n",
       "    <tr>\n",
       "      <th>5001711</th>\n",
       "      <td>5001711</td>\n",
       "      <td>-3</td>\n",
       "      <td>0</td>\n",
       "      <td>3</td>\n",
       "    </tr>\n",
       "    <tr>\n",
       "      <th>5001712</th>\n",
       "      <td>5001712</td>\n",
       "      <td>-18</td>\n",
       "      <td>0</td>\n",
       "      <td>18</td>\n",
       "    </tr>\n",
       "    <tr>\n",
       "      <th>5001713</th>\n",
       "      <td>5001713</td>\n",
       "      <td>-21</td>\n",
       "      <td>0</td>\n",
       "      <td>21</td>\n",
       "    </tr>\n",
       "    <tr>\n",
       "      <th>5001714</th>\n",
       "      <td>5001714</td>\n",
       "      <td>-14</td>\n",
       "      <td>0</td>\n",
       "      <td>14</td>\n",
       "    </tr>\n",
       "    <tr>\n",
       "      <th>5001715</th>\n",
       "      <td>5001715</td>\n",
       "      <td>-59</td>\n",
       "      <td>0</td>\n",
       "      <td>59</td>\n",
       "    </tr>\n",
       "  </tbody>\n",
       "</table>\n",
       "</div>"
      ],
      "text/plain": [
       "MONTHS_BALANCE       ID  OPEN_MONTH  END_MONTH  WINDOW\n",
       "ID                                                    \n",
       "5001711         5001711          -3          0       3\n",
       "5001712         5001712         -18          0      18\n",
       "5001713         5001713         -21          0      21\n",
       "5001714         5001714         -14          0      14\n",
       "5001715         5001715         -59          0      59"
      ]
     },
     "execution_count": 163,
     "metadata": {},
     "output_type": "execute_result"
    }
   ],
   "source": [
    "pivot_table.head()"
   ]
  },
  {
   "cell_type": "code",
   "execution_count": 164,
   "id": "be150690",
   "metadata": {},
   "outputs": [],
   "source": [
    "pivot_table.reset_index(drop=True, inplace=True)"
   ]
  },
  {
   "cell_type": "code",
   "execution_count": 165,
   "id": "61dc66e3",
   "metadata": {},
   "outputs": [],
   "source": [
    "credit = pd.merge(credit, pivot_table, on=\"ID\", how=\"left\")"
   ]
  },
  {
   "cell_type": "code",
   "execution_count": 166,
   "id": "7cfff21f",
   "metadata": {
    "scrolled": true
   },
   "outputs": [
    {
     "data": {
      "text/html": [
       "<div>\n",
       "<style scoped>\n",
       "    .dataframe tbody tr th:only-of-type {\n",
       "        vertical-align: middle;\n",
       "    }\n",
       "\n",
       "    .dataframe tbody tr th {\n",
       "        vertical-align: top;\n",
       "    }\n",
       "\n",
       "    .dataframe thead th {\n",
       "        text-align: right;\n",
       "    }\n",
       "</style>\n",
       "<table border=\"1\" class=\"dataframe\">\n",
       "  <thead>\n",
       "    <tr style=\"text-align: right;\">\n",
       "      <th></th>\n",
       "      <th>ID</th>\n",
       "      <th>MONTHS_BALANCE</th>\n",
       "      <th>STATUS</th>\n",
       "      <th>OPEN_MONTH</th>\n",
       "      <th>END_MONTH</th>\n",
       "      <th>WINDOW</th>\n",
       "    </tr>\n",
       "  </thead>\n",
       "  <tbody>\n",
       "    <tr>\n",
       "      <th>0</th>\n",
       "      <td>5001711</td>\n",
       "      <td>0</td>\n",
       "      <td>X</td>\n",
       "      <td>-3</td>\n",
       "      <td>0</td>\n",
       "      <td>3</td>\n",
       "    </tr>\n",
       "    <tr>\n",
       "      <th>1</th>\n",
       "      <td>5001711</td>\n",
       "      <td>-1</td>\n",
       "      <td>0</td>\n",
       "      <td>-3</td>\n",
       "      <td>0</td>\n",
       "      <td>3</td>\n",
       "    </tr>\n",
       "    <tr>\n",
       "      <th>2</th>\n",
       "      <td>5001711</td>\n",
       "      <td>-2</td>\n",
       "      <td>0</td>\n",
       "      <td>-3</td>\n",
       "      <td>0</td>\n",
       "      <td>3</td>\n",
       "    </tr>\n",
       "    <tr>\n",
       "      <th>3</th>\n",
       "      <td>5001711</td>\n",
       "      <td>-3</td>\n",
       "      <td>0</td>\n",
       "      <td>-3</td>\n",
       "      <td>0</td>\n",
       "      <td>3</td>\n",
       "    </tr>\n",
       "    <tr>\n",
       "      <th>4</th>\n",
       "      <td>5001712</td>\n",
       "      <td>0</td>\n",
       "      <td>C</td>\n",
       "      <td>-18</td>\n",
       "      <td>0</td>\n",
       "      <td>18</td>\n",
       "    </tr>\n",
       "  </tbody>\n",
       "</table>\n",
       "</div>"
      ],
      "text/plain": [
       "        ID  MONTHS_BALANCE STATUS  OPEN_MONTH  END_MONTH  WINDOW\n",
       "0  5001711               0      X          -3          0       3\n",
       "1  5001711              -1      0          -3          0       3\n",
       "2  5001711              -2      0          -3          0       3\n",
       "3  5001711              -3      0          -3          0       3\n",
       "4  5001712               0      C         -18          0      18"
      ]
     },
     "execution_count": 166,
     "metadata": {},
     "output_type": "execute_result"
    }
   ],
   "source": [
    "credit.head()"
   ]
  },
  {
   "cell_type": "code",
   "execution_count": 168,
   "id": "0890bdf3",
   "metadata": {},
   "outputs": [],
   "source": [
    "credit_copy = credit.copy()"
   ]
  },
  {
   "cell_type": "markdown",
   "id": "0b9ac5b0",
   "metadata": {},
   "source": [
    "## Vintage Analysis\n",
    "\n",
    "In this project, Vintage Analysis is used to construct the label. It is a popular method for managing credit risk. Vintage analysis measures the performance of a portfolio in different periods of time after the loan( or credit card) was granted. Performance can be measured in the form of cumulative charge-off rate, proportion of customers 30/60/90 days past due, utilization ratio and average balance.\n",
    "\n",
    "We will label customers who are __60 days__ or more past due as _'bad'_ (or 0), while others will be labelled as _'good'_ (or 1). Customers labelled 'bad' are found where STATUS is equal to 2,3,4 or 5."
   ]
  },
  {
   "cell_type": "markdown",
   "id": "e3254c3d",
   "metadata": {},
   "source": [
    "The Performance Window we used are those greater than __20 months__ . So, customers who defaulted during this performance window would be considered as __bad__ customer and labelled as __1__ in the STATUS variable."
   ]
  },
  {
   "cell_type": "code",
   "execution_count": 169,
   "id": "4496cdd9",
   "metadata": {},
   "outputs": [],
   "source": [
    "# remove observe window less than 20 \n",
    "credit = credit[credit['WINDOW'] > 20]"
   ]
  },
  {
   "cell_type": "code",
   "execution_count": 170,
   "id": "3c17d9fd",
   "metadata": {},
   "outputs": [],
   "source": [
    "# 60 days or more past due - BAD customer\n",
    "credit['STATUS'] = np.where(credit['STATUS'].isin([2,3,4,5]), 1, 0)"
   ]
  },
  {
   "cell_type": "code",
   "execution_count": 171,
   "id": "0b65634e",
   "metadata": {},
   "outputs": [],
   "source": [
    "credit['STATUS'] = credit['STATUS'].astype(np.int8)"
   ]
  },
  {
   "cell_type": "code",
   "execution_count": 172,
   "id": "a0fafb6e",
   "metadata": {},
   "outputs": [
    {
     "data": {
      "text/html": [
       "<div>\n",
       "<style scoped>\n",
       "    .dataframe tbody tr th:only-of-type {\n",
       "        vertical-align: middle;\n",
       "    }\n",
       "\n",
       "    .dataframe tbody tr th {\n",
       "        vertical-align: top;\n",
       "    }\n",
       "\n",
       "    .dataframe thead th {\n",
       "        text-align: right;\n",
       "    }\n",
       "</style>\n",
       "<table border=\"1\" class=\"dataframe\">\n",
       "  <thead>\n",
       "    <tr style=\"text-align: right;\">\n",
       "      <th></th>\n",
       "      <th>ID</th>\n",
       "      <th>MONTHS_BALANCE</th>\n",
       "      <th>STATUS</th>\n",
       "      <th>OPEN_MONTH</th>\n",
       "      <th>END_MONTH</th>\n",
       "      <th>WINDOW</th>\n",
       "    </tr>\n",
       "  </thead>\n",
       "  <tbody>\n",
       "    <tr>\n",
       "      <th>23</th>\n",
       "      <td>5001713</td>\n",
       "      <td>0</td>\n",
       "      <td>0</td>\n",
       "      <td>-21</td>\n",
       "      <td>0</td>\n",
       "      <td>21</td>\n",
       "    </tr>\n",
       "    <tr>\n",
       "      <th>24</th>\n",
       "      <td>5001713</td>\n",
       "      <td>-1</td>\n",
       "      <td>0</td>\n",
       "      <td>-21</td>\n",
       "      <td>0</td>\n",
       "      <td>21</td>\n",
       "    </tr>\n",
       "    <tr>\n",
       "      <th>25</th>\n",
       "      <td>5001713</td>\n",
       "      <td>-2</td>\n",
       "      <td>0</td>\n",
       "      <td>-21</td>\n",
       "      <td>0</td>\n",
       "      <td>21</td>\n",
       "    </tr>\n",
       "    <tr>\n",
       "      <th>26</th>\n",
       "      <td>5001713</td>\n",
       "      <td>-3</td>\n",
       "      <td>0</td>\n",
       "      <td>-21</td>\n",
       "      <td>0</td>\n",
       "      <td>21</td>\n",
       "    </tr>\n",
       "    <tr>\n",
       "      <th>27</th>\n",
       "      <td>5001713</td>\n",
       "      <td>-4</td>\n",
       "      <td>0</td>\n",
       "      <td>-21</td>\n",
       "      <td>0</td>\n",
       "      <td>21</td>\n",
       "    </tr>\n",
       "    <tr>\n",
       "      <th>...</th>\n",
       "      <td>...</td>\n",
       "      <td>...</td>\n",
       "      <td>...</td>\n",
       "      <td>...</td>\n",
       "      <td>...</td>\n",
       "      <td>...</td>\n",
       "    </tr>\n",
       "    <tr>\n",
       "      <th>1048570</th>\n",
       "      <td>5150487</td>\n",
       "      <td>-25</td>\n",
       "      <td>0</td>\n",
       "      <td>-29</td>\n",
       "      <td>0</td>\n",
       "      <td>29</td>\n",
       "    </tr>\n",
       "    <tr>\n",
       "      <th>1048571</th>\n",
       "      <td>5150487</td>\n",
       "      <td>-26</td>\n",
       "      <td>0</td>\n",
       "      <td>-29</td>\n",
       "      <td>0</td>\n",
       "      <td>29</td>\n",
       "    </tr>\n",
       "    <tr>\n",
       "      <th>1048572</th>\n",
       "      <td>5150487</td>\n",
       "      <td>-27</td>\n",
       "      <td>0</td>\n",
       "      <td>-29</td>\n",
       "      <td>0</td>\n",
       "      <td>29</td>\n",
       "    </tr>\n",
       "    <tr>\n",
       "      <th>1048573</th>\n",
       "      <td>5150487</td>\n",
       "      <td>-28</td>\n",
       "      <td>0</td>\n",
       "      <td>-29</td>\n",
       "      <td>0</td>\n",
       "      <td>29</td>\n",
       "    </tr>\n",
       "    <tr>\n",
       "      <th>1048574</th>\n",
       "      <td>5150487</td>\n",
       "      <td>-29</td>\n",
       "      <td>0</td>\n",
       "      <td>-29</td>\n",
       "      <td>0</td>\n",
       "      <td>29</td>\n",
       "    </tr>\n",
       "  </tbody>\n",
       "</table>\n",
       "<p>775282 rows × 6 columns</p>\n",
       "</div>"
      ],
      "text/plain": [
       "              ID  MONTHS_BALANCE  STATUS  OPEN_MONTH  END_MONTH  WINDOW\n",
       "23       5001713               0       0         -21          0      21\n",
       "24       5001713              -1       0         -21          0      21\n",
       "25       5001713              -2       0         -21          0      21\n",
       "26       5001713              -3       0         -21          0      21\n",
       "27       5001713              -4       0         -21          0      21\n",
       "...          ...             ...     ...         ...        ...     ...\n",
       "1048570  5150487             -25       0         -29          0      29\n",
       "1048571  5150487             -26       0         -29          0      29\n",
       "1048572  5150487             -27       0         -29          0      29\n",
       "1048573  5150487             -28       0         -29          0      29\n",
       "1048574  5150487             -29       0         -29          0      29\n",
       "\n",
       "[775282 rows x 6 columns]"
      ]
     },
     "execution_count": 172,
     "metadata": {},
     "output_type": "execute_result"
    }
   ],
   "source": [
    "credit"
   ]
  },
  {
   "cell_type": "markdown",
   "id": "93dbb446",
   "metadata": {},
   "source": [
    "Both credit and application data are merged into a dataframe"
   ]
  },
  {
   "cell_type": "code",
   "execution_count": 173,
   "id": "a2429547",
   "metadata": {},
   "outputs": [],
   "source": [
    "df = pd.merge(credit, application, on=\"ID\", how='left')"
   ]
  },
  {
   "cell_type": "code",
   "execution_count": 174,
   "id": "e923ae75",
   "metadata": {},
   "outputs": [
    {
     "data": {
      "text/plain": [
       "(775282, 438557)"
      ]
     },
     "execution_count": 174,
     "metadata": {},
     "output_type": "execute_result"
    }
   ],
   "source": [
    "len(credit), len(application)"
   ]
  },
  {
   "cell_type": "code",
   "execution_count": 175,
   "id": "711526ec",
   "metadata": {},
   "outputs": [
    {
     "data": {
      "text/html": [
       "<div>\n",
       "<style scoped>\n",
       "    .dataframe tbody tr th:only-of-type {\n",
       "        vertical-align: middle;\n",
       "    }\n",
       "\n",
       "    .dataframe tbody tr th {\n",
       "        vertical-align: top;\n",
       "    }\n",
       "\n",
       "    .dataframe thead th {\n",
       "        text-align: right;\n",
       "    }\n",
       "</style>\n",
       "<table border=\"1\" class=\"dataframe\">\n",
       "  <thead>\n",
       "    <tr style=\"text-align: right;\">\n",
       "      <th></th>\n",
       "      <th>ID</th>\n",
       "      <th>MONTHS_BALANCE</th>\n",
       "      <th>STATUS</th>\n",
       "      <th>OPEN_MONTH</th>\n",
       "      <th>END_MONTH</th>\n",
       "      <th>WINDOW</th>\n",
       "      <th>CODE_GENDER</th>\n",
       "      <th>FLAG_OWN_CAR</th>\n",
       "      <th>FLAG_OWN_REALTY</th>\n",
       "      <th>CNT_CHILDREN</th>\n",
       "      <th>...</th>\n",
       "      <th>NAME_FAMILY_STATUS</th>\n",
       "      <th>NAME_HOUSING_TYPE</th>\n",
       "      <th>DAYS_BIRTH</th>\n",
       "      <th>DAYS_EMPLOYED</th>\n",
       "      <th>FLAG_MOBIL</th>\n",
       "      <th>FLAG_WORK_PHONE</th>\n",
       "      <th>FLAG_PHONE</th>\n",
       "      <th>FLAG_EMAIL</th>\n",
       "      <th>OCCUPATION_TYPE</th>\n",
       "      <th>CNT_FAM_MEMBERS</th>\n",
       "    </tr>\n",
       "  </thead>\n",
       "  <tbody>\n",
       "    <tr>\n",
       "      <th>0</th>\n",
       "      <td>5001713</td>\n",
       "      <td>0</td>\n",
       "      <td>0</td>\n",
       "      <td>-21</td>\n",
       "      <td>0</td>\n",
       "      <td>21</td>\n",
       "      <td>NaN</td>\n",
       "      <td>NaN</td>\n",
       "      <td>NaN</td>\n",
       "      <td>NaN</td>\n",
       "      <td>...</td>\n",
       "      <td>NaN</td>\n",
       "      <td>NaN</td>\n",
       "      <td>NaN</td>\n",
       "      <td>NaN</td>\n",
       "      <td>NaN</td>\n",
       "      <td>NaN</td>\n",
       "      <td>NaN</td>\n",
       "      <td>NaN</td>\n",
       "      <td>NaN</td>\n",
       "      <td>NaN</td>\n",
       "    </tr>\n",
       "    <tr>\n",
       "      <th>1</th>\n",
       "      <td>5001713</td>\n",
       "      <td>-1</td>\n",
       "      <td>0</td>\n",
       "      <td>-21</td>\n",
       "      <td>0</td>\n",
       "      <td>21</td>\n",
       "      <td>NaN</td>\n",
       "      <td>NaN</td>\n",
       "      <td>NaN</td>\n",
       "      <td>NaN</td>\n",
       "      <td>...</td>\n",
       "      <td>NaN</td>\n",
       "      <td>NaN</td>\n",
       "      <td>NaN</td>\n",
       "      <td>NaN</td>\n",
       "      <td>NaN</td>\n",
       "      <td>NaN</td>\n",
       "      <td>NaN</td>\n",
       "      <td>NaN</td>\n",
       "      <td>NaN</td>\n",
       "      <td>NaN</td>\n",
       "    </tr>\n",
       "    <tr>\n",
       "      <th>2</th>\n",
       "      <td>5001713</td>\n",
       "      <td>-2</td>\n",
       "      <td>0</td>\n",
       "      <td>-21</td>\n",
       "      <td>0</td>\n",
       "      <td>21</td>\n",
       "      <td>NaN</td>\n",
       "      <td>NaN</td>\n",
       "      <td>NaN</td>\n",
       "      <td>NaN</td>\n",
       "      <td>...</td>\n",
       "      <td>NaN</td>\n",
       "      <td>NaN</td>\n",
       "      <td>NaN</td>\n",
       "      <td>NaN</td>\n",
       "      <td>NaN</td>\n",
       "      <td>NaN</td>\n",
       "      <td>NaN</td>\n",
       "      <td>NaN</td>\n",
       "      <td>NaN</td>\n",
       "      <td>NaN</td>\n",
       "    </tr>\n",
       "    <tr>\n",
       "      <th>3</th>\n",
       "      <td>5001713</td>\n",
       "      <td>-3</td>\n",
       "      <td>0</td>\n",
       "      <td>-21</td>\n",
       "      <td>0</td>\n",
       "      <td>21</td>\n",
       "      <td>NaN</td>\n",
       "      <td>NaN</td>\n",
       "      <td>NaN</td>\n",
       "      <td>NaN</td>\n",
       "      <td>...</td>\n",
       "      <td>NaN</td>\n",
       "      <td>NaN</td>\n",
       "      <td>NaN</td>\n",
       "      <td>NaN</td>\n",
       "      <td>NaN</td>\n",
       "      <td>NaN</td>\n",
       "      <td>NaN</td>\n",
       "      <td>NaN</td>\n",
       "      <td>NaN</td>\n",
       "      <td>NaN</td>\n",
       "    </tr>\n",
       "    <tr>\n",
       "      <th>4</th>\n",
       "      <td>5001713</td>\n",
       "      <td>-4</td>\n",
       "      <td>0</td>\n",
       "      <td>-21</td>\n",
       "      <td>0</td>\n",
       "      <td>21</td>\n",
       "      <td>NaN</td>\n",
       "      <td>NaN</td>\n",
       "      <td>NaN</td>\n",
       "      <td>NaN</td>\n",
       "      <td>...</td>\n",
       "      <td>NaN</td>\n",
       "      <td>NaN</td>\n",
       "      <td>NaN</td>\n",
       "      <td>NaN</td>\n",
       "      <td>NaN</td>\n",
       "      <td>NaN</td>\n",
       "      <td>NaN</td>\n",
       "      <td>NaN</td>\n",
       "      <td>NaN</td>\n",
       "      <td>NaN</td>\n",
       "    </tr>\n",
       "  </tbody>\n",
       "</table>\n",
       "<p>5 rows × 23 columns</p>\n",
       "</div>"
      ],
      "text/plain": [
       "        ID  MONTHS_BALANCE  STATUS  OPEN_MONTH  END_MONTH  WINDOW CODE_GENDER  \\\n",
       "0  5001713               0       0         -21          0      21         NaN   \n",
       "1  5001713              -1       0         -21          0      21         NaN   \n",
       "2  5001713              -2       0         -21          0      21         NaN   \n",
       "3  5001713              -3       0         -21          0      21         NaN   \n",
       "4  5001713              -4       0         -21          0      21         NaN   \n",
       "\n",
       "  FLAG_OWN_CAR FLAG_OWN_REALTY  CNT_CHILDREN  ...  NAME_FAMILY_STATUS  \\\n",
       "0          NaN             NaN           NaN  ...                 NaN   \n",
       "1          NaN             NaN           NaN  ...                 NaN   \n",
       "2          NaN             NaN           NaN  ...                 NaN   \n",
       "3          NaN             NaN           NaN  ...                 NaN   \n",
       "4          NaN             NaN           NaN  ...                 NaN   \n",
       "\n",
       "  NAME_HOUSING_TYPE DAYS_BIRTH DAYS_EMPLOYED FLAG_MOBIL  FLAG_WORK_PHONE  \\\n",
       "0               NaN        NaN           NaN        NaN              NaN   \n",
       "1               NaN        NaN           NaN        NaN              NaN   \n",
       "2               NaN        NaN           NaN        NaN              NaN   \n",
       "3               NaN        NaN           NaN        NaN              NaN   \n",
       "4               NaN        NaN           NaN        NaN              NaN   \n",
       "\n",
       "   FLAG_PHONE  FLAG_EMAIL  OCCUPATION_TYPE  CNT_FAM_MEMBERS  \n",
       "0         NaN         NaN              NaN              NaN  \n",
       "1         NaN         NaN              NaN              NaN  \n",
       "2         NaN         NaN              NaN              NaN  \n",
       "3         NaN         NaN              NaN              NaN  \n",
       "4         NaN         NaN              NaN              NaN  \n",
       "\n",
       "[5 rows x 23 columns]"
      ]
     },
     "execution_count": 175,
     "metadata": {},
     "output_type": "execute_result"
    }
   ],
   "source": [
    "df.head()"
   ]
  },
  {
   "cell_type": "markdown",
   "id": "900c372f",
   "metadata": {},
   "source": [
    "We filled up the NaN values with modal values of each of the columns"
   ]
  },
  {
   "cell_type": "code",
   "execution_count": 177,
   "id": "a2299888",
   "metadata": {},
   "outputs": [],
   "source": [
    "modes = df.mode().iloc[0]"
   ]
  },
  {
   "cell_type": "code",
   "execution_count": 178,
   "id": "cdce0993",
   "metadata": {},
   "outputs": [
    {
     "data": {
      "text/plain": [
       "Index(['ID', 'MONTHS_BALANCE', 'STATUS', 'OPEN_MONTH', 'END_MONTH', 'WINDOW',\n",
       "       'CODE_GENDER', 'FLAG_OWN_CAR', 'FLAG_OWN_REALTY', 'CNT_CHILDREN',\n",
       "       'AMT_INCOME_TOTAL', 'NAME_INCOME_TYPE', 'NAME_EDUCATION_TYPE',\n",
       "       'NAME_FAMILY_STATUS', 'NAME_HOUSING_TYPE', 'DAYS_BIRTH',\n",
       "       'DAYS_EMPLOYED', 'FLAG_MOBIL', 'FLAG_WORK_PHONE', 'FLAG_PHONE',\n",
       "       'FLAG_EMAIL', 'OCCUPATION_TYPE', 'CNT_FAM_MEMBERS'],\n",
       "      dtype='object')"
      ]
     },
     "execution_count": 178,
     "metadata": {},
     "output_type": "execute_result"
    }
   ],
   "source": [
    "df.columns"
   ]
  },
  {
   "cell_type": "code",
   "execution_count": 179,
   "id": "00e543d5",
   "metadata": {},
   "outputs": [],
   "source": [
    "def proc_data(df):\n",
    "    df.fillna(modes, inplace=True)\n",
    "    df['CODE_GENDER'] = pd.Categorical(df.CODE_GENDER)\n",
    "    df['FLAG_OWN_CAR'] = pd.Categorical(df.FLAG_OWN_CAR)\n",
    "    df['FLAG_OWN_REALTY'] = pd.Categorical(df.FLAG_OWN_REALTY)\n",
    "    df['NAME_INCOME_TYPE'] = pd.Categorical(df.NAME_INCOME_TYPE)\n",
    "    df['NAME_EDUCATION_TYPE'] = pd.Categorical(df.NAME_EDUCATION_TYPE)\n",
    "    df['NAME_FAMILY_STATUS'] = pd.Categorical(df.NAME_FAMILY_STATUS)\n",
    "    df['NAME_HOUSING_TYPE'] = pd.Categorical(df.NAME_HOUSING_TYPE)\n",
    "    df['FLAG_MOBIL'] = pd.Categorical(df.FLAG_MOBIL)\n",
    "    df['FLAG_WORK_PHONE'] = pd.Categorical(df.FLAG_WORK_PHONE)\n",
    "    df['FLAG_PHONE'] = pd.Categorical(df.FLAG_PHONE)\n",
    "    df['FLAG_EMAIL'] = pd.Categorical(df.FLAG_EMAIL)\n",
    "    df['OCCUPATION_TYPE'] = pd.Categorical(df.OCCUPATION_TYPE)"
   ]
  },
  {
   "cell_type": "code",
   "execution_count": 180,
   "id": "ffba52ed",
   "metadata": {},
   "outputs": [],
   "source": [
    "proc_data(df)"
   ]
  },
  {
   "cell_type": "markdown",
   "id": "a1ebc4bd",
   "metadata": {},
   "source": [
    "There are __12__ categorical, __8__ continuous and __1__ target features"
   ]
  },
  {
   "cell_type": "code",
   "execution_count": 181,
   "id": "02e3d786",
   "metadata": {},
   "outputs": [],
   "source": [
    "cats = ['CODE_GENDER', 'FLAG_OWN_CAR', 'FLAG_OWN_REALTY', 'NAME_INCOME_TYPE', 'NAME_EDUCATION_TYPE', 'NAME_FAMILY_STATUS', \\\n",
    "       'NAME_HOUSING_TYPE', 'FLAG_MOBIL', 'FLAG_WORK_PHONE', 'FLAG_PHONE', 'FLAG_EMAIL', 'OCCUPATION_TYPE']\n",
    "\n",
    "conts = ['MONTHS_BALANCE','STATUS','WINDOW','CNT_CHILDREN','AMT_INCOME_TOTAL','DAYS_BIRTH', \\\n",
    "        'DAYS_EMPLOYED','CNT_FAM_MEMBERS']\n",
    "\n",
    "dep = 'STATUS'"
   ]
  },
  {
   "cell_type": "code",
   "execution_count": 182,
   "id": "eeca349c",
   "metadata": {},
   "outputs": [],
   "source": [
    "df_copy = df.copy()"
   ]
  },
  {
   "cell_type": "code",
   "execution_count": 183,
   "id": "eedb0513",
   "metadata": {},
   "outputs": [],
   "source": [
    "df_id = df['ID']"
   ]
  },
  {
   "cell_type": "code",
   "execution_count": 184,
   "id": "96c116a7",
   "metadata": {},
   "outputs": [],
   "source": [
    "df = df.drop(['OPEN_MONTH', 'END_MONTH', 'ID'], axis=1)"
   ]
  },
  {
   "cell_type": "markdown",
   "id": "f3866f34",
   "metadata": {},
   "source": [
    "Because the dataset is imbalanced, we used the Undersampling technique. __Undersampling__ is used to balance the class distribution for a classification dataset that has a skewed class distribution. We randomly selected examples from the majority class in the ratio of almost __1:1__ for the __good__ and __bad__ values in the __target__ class."
   ]
  },
  {
   "cell_type": "code",
   "execution_count": 185,
   "id": "e5b4582a",
   "metadata": {},
   "outputs": [],
   "source": [
    "no_record_bad = len(df[df.STATUS == 1])\n",
    "bad_indices = df[df.STATUS == 1].index\n",
    "good_indices = df[df.STATUS == 0].index\n",
    "\n",
    "random_good_indices = np.random.choice(good_indices, no_record_bad, replace=False)\n",
    "\n",
    "under_sample_indices = np.concatenate([random_good_indices, bad_indices])"
   ]
  },
  {
   "cell_type": "code",
   "execution_count": 186,
   "id": "67548ad4",
   "metadata": {},
   "outputs": [],
   "source": [
    "under_sample_data = df.iloc[under_sample_indices,:]"
   ]
  },
  {
   "cell_type": "markdown",
   "id": "ecacb304",
   "metadata": {},
   "source": [
    "We then splitted the undersampled dataset into train and validation datasets, using the train data to train our model, and the validation data to measure the error metrics of our trained model."
   ]
  },
  {
   "cell_type": "code",
   "execution_count": 187,
   "id": "f52f4c0e",
   "metadata": {},
   "outputs": [],
   "source": [
    "from numpy import random\n",
    "from sklearn.model_selection import train_test_split\n",
    "\n",
    "random.seed(42)\n",
    "trn_df, val_df = train_test_split(under_sample_data, test_size=0.25)\n",
    "trn_df[cats] = trn_df[cats].apply(lambda x: x.cat.codes)\n",
    "val_df[cats] = val_df[cats].apply(lambda x: x.cat.codes)"
   ]
  },
  {
   "cell_type": "code",
   "execution_count": 188,
   "id": "1bb5a247",
   "metadata": {},
   "outputs": [],
   "source": [
    "def xs_y(df):\n",
    "    xs = df[cats+conts].copy()\n",
    "    return xs, df[dep] if dep in df else None\n",
    "\n",
    "trn_xs, trn_y = xs_y(trn_df)\n",
    "val_xs, val_y = xs_y(val_df)"
   ]
  },
  {
   "cell_type": "markdown",
   "id": "4f41cd9d",
   "metadata": {},
   "source": [
    "Logistic Regression model is used for our data, and it is very effective for Binary Classification. The __C__ parameter (0.01) in the Logistic Regression model is the Inverse Regularization strength, the smaller the stronger regularization. The algorithm used for optimization is __liblinear__, which is good for small datasets.\n",
    "\n",
    "To prevent overfitting, we used __L1__ for penalty. L1 combats overfitting by shrinking the parameters towards 0. It is a kind of feature selection, because we are penalizing the absolute value of the weights."
   ]
  },
  {
   "cell_type": "code",
   "execution_count": 208,
   "id": "640a1d3d",
   "metadata": {},
   "outputs": [],
   "source": [
    "from sklearn.linear_model import LogisticRegression\n",
    "from sklearn.metrics import mean_absolute_error, accuracy_score, roc_auc_score, mean_squared_error"
   ]
  },
  {
   "cell_type": "code",
   "execution_count": 190,
   "id": "e895a698",
   "metadata": {},
   "outputs": [
    {
     "data": {
      "text/plain": [
       "1.0"
      ]
     },
     "execution_count": 190,
     "metadata": {},
     "output_type": "execute_result"
    }
   ],
   "source": [
    "lr = LogisticRegression(solver='liblinear', C = 0.01, random_state=0, penalty='l1')\n",
    "lr.fit(trn_xs, trn_y)\n",
    "roc_auc_score(val_y, lr.predict_proba(val_xs)[:,1])"
   ]
  },
  {
   "cell_type": "markdown",
   "id": "8e57e545",
   "metadata": {},
   "source": [
    "## Metrics\n",
    "\n",
    "We have an __ROC AUC Score__ of __1.0__ and a __Mean Absolute Error__ of __0.0__. We also used the Mean Accuracy which is a harsher metric since it requires that for each sample that each label set be correctly predicted. And we have a __Mean Accuracy__ of __1.0__.\n",
    "\n",
    "It is a very good model. It learnt well from the training data and predicted exceptionally well using the validation data."
   ]
  },
  {
   "cell_type": "code",
   "execution_count": 210,
   "id": "d6579fbb",
   "metadata": {},
   "outputs": [
    {
     "name": "stdout",
     "output_type": "stream",
     "text": [
      "ROC AUC Score:  1.0\n",
      "Mean Absolute Error:  0.0\n",
      "Mean Squared Error:  0.0\n",
      "Accuracy:  1.0\n",
      "Mean Accuracy: 1.0\n"
     ]
    }
   ],
   "source": [
    "print('ROC AUC Score: ', roc_auc_score(val_y, lr.predict_proba(val_xs)[:,1]))\n",
    "print('Mean Absolute Error: ', mean_absolute_error(val_y, lr.predict(val_xs)))\n",
    "print('Mean Squared Error: ', mean_squared_error(val_y, lr.predict(val_xs)))\n",
    "print('Accuracy: ', accuracy_score(val_y, lr.predict(val_xs)))\n",
    "print('Mean Accuracy:', lr.score(val_xs, val_y))"
   ]
  },
  {
   "cell_type": "code",
   "execution_count": null,
   "id": "18e8aec3",
   "metadata": {},
   "outputs": [],
   "source": []
  }
 ],
 "metadata": {
  "kernelspec": {
   "display_name": "Python 3 (ipykernel)",
   "language": "python",
   "name": "python3"
  },
  "language_info": {
   "codemirror_mode": {
    "name": "ipython",
    "version": 3
   },
   "file_extension": ".py",
   "mimetype": "text/x-python",
   "name": "python",
   "nbconvert_exporter": "python",
   "pygments_lexer": "ipython3",
   "version": "3.9.12"
  }
 },
 "nbformat": 4,
 "nbformat_minor": 5
}
